{
  "nbformat": 4,
  "nbformat_minor": 0,
  "metadata": {
    "colab": {
      "provenance": []
    },
    "kernelspec": {
      "name": "python3",
      "display_name": "Python 3"
    },
    "language_info": {
      "name": "python"
    }
  },
  "cells": [
    {
      "cell_type": "markdown",
      "source": [
        "# Let's convert our image to a grayscale and P&B versions."
      ],
      "metadata": {
        "id": "Ks_sRfEbunnW"
      }
    },
    {
      "cell_type": "code",
      "source": [
        "!pip install pillow"
      ],
      "metadata": {
        "colab": {
          "base_uri": "https://localhost:8080/"
        },
        "id": "Fn-DeO-Au0Rs",
        "outputId": "cfa9b0c3-f299-4ba2-99fa-7d0491cd10c7"
      },
      "execution_count": 10,
      "outputs": [
        {
          "output_type": "stream",
          "name": "stdout",
          "text": [
            "Requirement already satisfied: pillow in /usr/local/lib/python3.10/dist-packages (9.4.0)\n"
          ]
        }
      ]
    },
    {
      "cell_type": "code",
      "source": [
        "# Don't forget to put the path to your image:\n",
        "im = Image.open(\"/content/demo-image.jpg\")\n",
        "print(im.format, im.size, im.mode)"
      ],
      "metadata": {
        "colab": {
          "base_uri": "https://localhost:8080/"
        },
        "id": "01BF865C5Pwm",
        "outputId": "30fad130-6be3-42eb-d608-4836afaca3a2"
      },
      "execution_count": 13,
      "outputs": [
        {
          "output_type": "stream",
          "name": "stdout",
          "text": [
            "JPEG (375, 500) RGB\n"
          ]
        }
      ]
    },
    {
      "cell_type": "code",
      "execution_count": 23,
      "metadata": {
        "id": "gmOScd-lt8a9"
      },
      "outputs": [],
      "source": [
        "import os, sys\n",
        "from PIL import Image\n",
        "\n",
        "# Load the image\n",
        "# image = Image.open('/content/muro_RJ.png')\n",
        "\n",
        "# Convert to grayscale\n",
        "gray_image = im.convert('L')\n",
        "\n",
        "# Convert to black and white\n",
        "bw_image = gray_image.point(lambda x: 0 if x < 128 else 255, '1')\n",
        "\n",
        "# Save the results\n",
        "gray_image.save('grayscale_image.jpg')\n",
        "bw_image.save('black_and_white_image.jpg')"
      ]
    },
    {
      "cell_type": "code",
      "source": [
        "# Display the images (optional)\n",
        "gray_image.show()\n",
        "bw_image.show()"
      ],
      "metadata": {
        "id": "8ru4z7Uh4b_P"
      },
      "execution_count": 7,
      "outputs": []
    }
  ]
}